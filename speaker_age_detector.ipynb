{
  "nbformat": 4,
  "nbformat_minor": 0,
  "metadata": {
    "colab": {
      "provenance": [],
      "include_colab_link": true
    },
    "kernelspec": {
      "name": "python3",
      "display_name": "Python 3"
    },
    "language_info": {
      "name": "python"
    }
  },
  "cells": [
    {
      "cell_type": "markdown",
      "metadata": {
        "id": "view-in-github",
        "colab_type": "text"
      },
      "source": [
        "<a href=\"https://colab.research.google.com/github/SarahShkb/speaker_age_predictor/blob/main/speaker_age_detector.ipynb\" target=\"_parent\"><img src=\"https://colab.research.google.com/assets/colab-badge.svg\" alt=\"Open In Colab\"/></a>"
      ]
    },
    {
      "cell_type": "code",
      "source": [
        "%pip install pydub"
      ],
      "metadata": {
        "colab": {
          "base_uri": "https://localhost:8080/"
        },
        "id": "menKyiA6XQlY",
        "outputId": "6beaeb11-8e10-4f87-8f3f-1da18f1f132d"
      },
      "execution_count": 1,
      "outputs": [
        {
          "output_type": "stream",
          "name": "stdout",
          "text": [
            "Requirement already satisfied: pydub in /usr/local/lib/python3.10/dist-packages (0.25.1)\n"
          ]
        }
      ]
    },
    {
      "cell_type": "code",
      "source": [
        "from google.colab import drive\n",
        "drive.mount('/content/drive')"
      ],
      "metadata": {
        "colab": {
          "base_uri": "https://localhost:8080/"
        },
        "id": "KNCBWAlRzKdx",
        "outputId": "7bd14cc0-a215-4e7f-c070-67ea840f4445"
      },
      "execution_count": 2,
      "outputs": [
        {
          "output_type": "stream",
          "name": "stdout",
          "text": [
            "Drive already mounted at /content/drive; to attempt to forcibly remount, call drive.mount(\"/content/drive\", force_remount=True).\n"
          ]
        }
      ]
    },
    {
      "cell_type": "code",
      "execution_count": 3,
      "metadata": {
        "id": "GOrNXyOLRSzZ"
      },
      "outputs": [],
      "source": [
        "import pydub\n",
        "import numpy as np\n",
        "import json\n",
        "import matplotlib.pyplot as plt"
      ]
    },
    {
      "cell_type": "code",
      "source": [
        "def separate_channels(audio_path):\n",
        "    \"\"\"\n",
        "    Loads an audio file and separates its channels into individual numpy arrays.\n",
        "\n",
        "    Parameters:\n",
        "    audio_path (str): Path to the audio file\n",
        "\n",
        "    Returns:\n",
        "    tuple: (left_channel, right_channel) as numpy arrays\n",
        "    \"\"\"\n",
        "    # Load the audio file\n",
        "    audio = pydub.AudioSegment.from_file(audio_path)\n",
        "\n",
        "    # Get the raw audio data as an array of samples\n",
        "    samples = np.array(audio.get_array_of_samples())\n",
        "\n",
        "    # If audio is mono, return the same array for both channels\n",
        "    if audio.channels == 1:\n",
        "        return samples, samples\n",
        "\n",
        "    # Reshape the array to separate channels\n",
        "    # samples contains alternating values for left and right channels\n",
        "    samples = samples.reshape((-1, audio.channels))\n",
        "\n",
        "    # Extract left and right channels\n",
        "    left_channel = samples[:, 0]\n",
        "    right_channel = samples[:, 1]\n",
        "\n",
        "    return left_channel, right_channel"
      ],
      "metadata": {
        "id": "oOZ-HifyllpO"
      },
      "execution_count": null,
      "outputs": []
    },
    {
      "cell_type": "code",
      "source": [
        "def get_audio_file_data(audio_path, normalized=False):\n",
        "  a = pydub.AudioSegment.from_mp3(audio_path)\n",
        "  y = np.array(a.get_array_of_samples())\n",
        "  print(a.frame_rate)\n",
        "\n",
        "  if a.channels == 2:\n",
        "      results = []\n",
        "      print(y.shape)\n",
        "      results.append(y[:,0])\n",
        "      results.append(y[:,1])\n",
        "      return results, a.channels\n",
        "  if normalized:\n",
        "      return a, np.float32(y) / 2**15\n",
        "  else:\n",
        "      print(y.shape)\n",
        "      return y, a.channels"
      ],
      "metadata": {
        "id": "EksbSkjwT4NR"
      },
      "execution_count": 37,
      "outputs": []
    },
    {
      "cell_type": "code",
      "source": [
        "\n",
        "base_addr = \"drive/MyDrive/DSL_Winter_Project_2025/audios_development/\"\n",
        "get_audio_file_data(base_addr +'1.wav')\n"
      ],
      "metadata": {
        "colab": {
          "base_uri": "https://localhost:8080/"
        },
        "id": "rYmBHQyWUrHg",
        "outputId": "f7b7a683-e76e-4bf7-ddb4-5d31b2c1e1f8"
      },
      "execution_count": 38,
      "outputs": [
        {
          "output_type": "stream",
          "name": "stdout",
          "text": [
            "44100\n",
            "(1547700,)\n"
          ]
        },
        {
          "output_type": "execute_result",
          "data": {
            "text/plain": [
              "(array([-19, -25, -15, ...,  25,  38,  35], dtype=int16), 1)"
            ]
          },
          "metadata": {},
          "execution_count": 38
        }
      ]
    },
    {
      "cell_type": "code",
      "source": [
        "def aggregate_audio_array(n):\n",
        "  audio_dict = {}\n",
        "  for i in range(1,n):\n",
        "    audio_file_object = get_audio_file_data(base_addr+ str(i) +'.wav')\n",
        "\n",
        "    #audio_file_object[1] is num of channels\n",
        "    if audio_file_object[1] in audio_dict:\n",
        "      audio_dict[audio_file_object[1]].append(audio_file_object[0])\n",
        "    else:\n",
        "      audio_dict[audio_file_object[1]] = [audio_file_object[0]]\n",
        "  return audio_dict"
      ],
      "metadata": {
        "id": "a01Zl4rQZzTh"
      },
      "execution_count": 6,
      "outputs": []
    },
    {
      "cell_type": "code",
      "source": [
        "audio_objects = aggregate_audio_array(100)"
      ],
      "metadata": {
        "id": "uRzJLIP9b0tZ"
      },
      "execution_count": 7,
      "outputs": []
    },
    {
      "cell_type": "code",
      "source": [
        "print(audio_objects.keys())\n",
        "print(len(audio_objects[1]))\n",
        "print(len(audio_objects[2]))"
      ],
      "metadata": {
        "colab": {
          "base_uri": "https://localhost:8080/"
        },
        "id": "6zudQZ24f-YU",
        "outputId": "d2de2b4d-4162-4edc-f249-fce01e9bf2ef"
      },
      "execution_count": 8,
      "outputs": [
        {
          "output_type": "stream",
          "name": "stdout",
          "text": [
            "dict_keys([1, 2])\n",
            "63\n",
            "36\n"
          ]
        }
      ]
    },
    {
      "cell_type": "code",
      "source": [],
      "metadata": {
        "id": "VpEIl0cZgFcc"
      },
      "execution_count": null,
      "outputs": []
    },
    {
      "cell_type": "code",
      "source": [
        "print(len(audio_objects[2]))"
      ],
      "metadata": {
        "colab": {
          "base_uri": "https://localhost:8080/"
        },
        "id": "GZGsYtGAfmKc",
        "outputId": "dc5f4bf4-246c-44d5-9232-f216198aa013"
      },
      "execution_count": 20,
      "outputs": [
        {
          "output_type": "stream",
          "name": "stdout",
          "text": [
            "36\n"
          ]
        }
      ]
    },
    {
      "cell_type": "code",
      "source": [
        "colors=['blue','orange','green','pink']\n",
        "fig1, ax1 = plt.subplots(figsize=(3, 2))\n",
        "fig2, ax2 = plt.subplots(figsize=(3, 2))\n",
        "fig3, ax3 = plt.subplots(figsize=(3, 2))\n",
        "for i in range(20):\n",
        "  ax1.plot(audio_objects[1][i],c=colors[3])\n",
        "for j in range(20):\n",
        "  for k in range(1):\n",
        "    if k==0:\n",
        "      ax2.plot(audio_objects[2][j][k], c=colors[k])\n",
        "    else:\n",
        "      ax3.plot(audio_objects[2][j][k], c=colors[k])\n",
        "\n",
        "plt.show()"
      ],
      "metadata": {
        "colab": {
          "base_uri": "https://localhost:8080/",
          "height": 872
        },
        "id": "Vj34qNob-JsY",
        "outputId": "6c951af2-7d50-47f4-eb89-00a124c36438"
      },
      "execution_count": 9,
      "outputs": [
        {
          "output_type": "error",
          "ename": "IndexError",
          "evalue": "list index out of range",
          "traceback": [
            "\u001b[0;31m---------------------------------------------------------------------------\u001b[0m",
            "\u001b[0;31mIndexError\u001b[0m                                Traceback (most recent call last)",
            "\u001b[0;32m<ipython-input-9-b7641251f089>\u001b[0m in \u001b[0;36m<cell line: 7>\u001b[0;34m()\u001b[0m\n\u001b[1;32m      7\u001b[0m \u001b[0;32mfor\u001b[0m \u001b[0mj\u001b[0m \u001b[0;32min\u001b[0m \u001b[0mrange\u001b[0m\u001b[0;34m(\u001b[0m\u001b[0;36m20\u001b[0m\u001b[0;34m)\u001b[0m\u001b[0;34m:\u001b[0m\u001b[0;34m\u001b[0m\u001b[0;34m\u001b[0m\u001b[0m\n\u001b[1;32m      8\u001b[0m   \u001b[0;32mfor\u001b[0m \u001b[0mk\u001b[0m \u001b[0;32min\u001b[0m \u001b[0mrange\u001b[0m\u001b[0;34m(\u001b[0m\u001b[0;36m1\u001b[0m\u001b[0;34m)\u001b[0m\u001b[0;34m:\u001b[0m\u001b[0;34m\u001b[0m\u001b[0;34m\u001b[0m\u001b[0m\n\u001b[0;32m----> 9\u001b[0;31m     \u001b[0mprint\u001b[0m\u001b[0;34m(\u001b[0m\u001b[0maudio_objects\u001b[0m\u001b[0;34m[\u001b[0m\u001b[0;36m2\u001b[0m\u001b[0;34m]\u001b[0m\u001b[0;34m[\u001b[0m\u001b[0mj\u001b[0m\u001b[0;34m]\u001b[0m\u001b[0;34m[\u001b[0m\u001b[0;36m1\u001b[0m\u001b[0;34m]\u001b[0m\u001b[0;34m)\u001b[0m\u001b[0;34m\u001b[0m\u001b[0;34m\u001b[0m\u001b[0m\n\u001b[0m\u001b[1;32m     10\u001b[0m     \u001b[0;32mif\u001b[0m \u001b[0mk\u001b[0m\u001b[0;34m==\u001b[0m\u001b[0;36m0\u001b[0m\u001b[0;34m:\u001b[0m\u001b[0;34m\u001b[0m\u001b[0;34m\u001b[0m\u001b[0m\n\u001b[1;32m     11\u001b[0m       \u001b[0max2\u001b[0m\u001b[0;34m.\u001b[0m\u001b[0mplot\u001b[0m\u001b[0;34m(\u001b[0m\u001b[0maudio_objects\u001b[0m\u001b[0;34m[\u001b[0m\u001b[0;36m2\u001b[0m\u001b[0;34m]\u001b[0m\u001b[0;34m[\u001b[0m\u001b[0mj\u001b[0m\u001b[0;34m]\u001b[0m\u001b[0;34m[\u001b[0m\u001b[0mk\u001b[0m\u001b[0;34m]\u001b[0m\u001b[0;34m,\u001b[0m \u001b[0mc\u001b[0m\u001b[0;34m=\u001b[0m\u001b[0mcolors\u001b[0m\u001b[0;34m[\u001b[0m\u001b[0mk\u001b[0m\u001b[0;34m]\u001b[0m\u001b[0;34m)\u001b[0m\u001b[0;34m\u001b[0m\u001b[0;34m\u001b[0m\u001b[0m\n",
            "\u001b[0;31mIndexError\u001b[0m: list index out of range"
          ]
        },
        {
          "output_type": "display_data",
          "data": {
            "text/plain": [
              "<Figure size 300x200 with 1 Axes>"
            ],
            "image/png": "[encoded data removed]"
          },
          "metadata": {}
        },
        {
          "output_type": "display_data",
          "data": {
            "text/plain": [
              "<Figure size 300x200 with 1 Axes>"
            ],
            "image/png": "[encoded data removed]"
          },
          "metadata": {}
        },
        {
          "output_type": "display_data",
          "data": {
            "text/plain": [
              "<Figure size 300x200 with 1 Axes>"
            ],
            "image/png": "[encoded data removed]"
          },
          "metadata": {}
        }
      ]
    }
  ]
}